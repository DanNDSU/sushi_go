{
 "cells": [
  {
   "cell_type": "code",
   "execution_count": null,
   "id": "66a13859",
   "metadata": {},
   "outputs": [],
   "source": [
    "import pandas as pd\n",
    "from State import *\n",
    "from Player import *\n",
    "import plotly.express as px\n",
    "from tqdm import tqdm\n",
    "\n",
    "\n",
    "state = State(get_actual_card_pool())\n",
    "p1 = QStatePlayer('State Player 1')\n",
    "p2 = QStatePlayer('State Player 2')\n",
    "p3 = QStatePlayer('State Player 3')\n",
    "state.add_player(p1)\n",
    "state.add_player(p2)\n",
    "state.add_player(p3)\n",
    "state.starting_hand_size = 10\n",
    "df = pd.DataFrame()\n",
    "all_results = []\n",
    "hit_rates = []\n",
    "        \n",
    "for i in tqdm(range(100)):\n",
    "    # Train\n",
    "    p1.exp_rate = 0.3\n",
    "    p2.exp_rate = 0.3\n",
    "    p3.exp_rate = 0.3\n",
    "    p1.lr = 0.1\n",
    "    p2.lr = 0.01\n",
    "    p3.lr = 0.01\n",
    "    state.play_games(200)\n",
    "    \n",
    "    #for item in p1.model_dict.items():\n",
    "        #print(item)\n",
    "\n",
    "    # Eval\n",
    "    p1.exp_rate = 0\n",
    "    p2.exp_rate = 0\n",
    "    p3.exp_rate = 0\n",
    "    \n",
    "    state.stats = []\n",
    "    state.play_games(200)\n",
    "    all_results.append(state.stats)"
   ]
  },
  {
   "cell_type": "code",
   "execution_count": 2,
   "id": "fc8e7bba",
   "metadata": {},
   "outputs": [
    {
     "name": "stderr",
     "output_type": "stream",
     "text": [
      "100%|███████████████████████████████████████████████████████████████████████████████████████████| 100/100 [59:55<00:00, 35.96s/it]\n"
     ]
    }
   ],
   "source": [
    "import pandas as pd\n",
    "from State import *\n",
    "from Player import *\n",
    "import plotly.express as px\n",
    "from tqdm import tqdm\n",
    "\n",
    "\n",
    "state = State(get_actual_card_pool())\n",
    "p1 = RulePlayer('Rule Player')\n",
    "p2 = QStatePlayer('DB Player')\n",
    "p3 = QPlayer('Q Player')\n",
    "p4 = RandomPlayer('RandomPlayer')\n",
    "#p4 = DeepPlayer('Deep w/ Memory', num_of_opponents=3, memory_turns=3)\n",
    "state.add_player(p1)\n",
    "state.add_player(p2)\n",
    "state.add_player(p3)\n",
    "state.add_player(p4)\n",
    "state.starting_hand_size = 10\n",
    "df = pd.DataFrame()\n",
    "all_results = []\n",
    "hit_rates = []\n",
    "        \n",
    "for i in tqdm(range(100)):\n",
    "    # Train\n",
    "    #p1.exp_rate = 0.3\n",
    "    #p2.exp_rate = 0.3\n",
    "    #p3.exp_rate = 0.3\n",
    "    #p1.lr = 0.1\n",
    "    p2.lr = 0.01\n",
    "    p3.lr = 0.01\n",
    "    #state.play_games(100)\n",
    "    \n",
    "    #for item in p1.model_dict.items():\n",
    "        #print(item)\n",
    "\n",
    "    # Eval\n",
    "    #p1.exp_rate = 0\n",
    "    p2.exp_rate = 0\n",
    "    p3.exp_rate = 0\n",
    "    \n",
    "    state.stats = []\n",
    "    state.play_games(100)\n",
    "    all_results.append(state.stats)"
   ]
  },
  {
   "cell_type": "code",
   "execution_count": null,
   "id": "26fbd2ae",
   "metadata": {},
   "outputs": [],
   "source": [
    "df = pd.DataFrame()\n",
    "for i in range(4):\n",
    "    df[state.players[i].name] = [_[i] for _ in all_results]\n",
    "fig = px.line(df)\n",
    "fig.update_layout(\n",
    "    title='4 Player Games stats, 200 Games per Round',\n",
    "    xaxis_title='Round',\n",
    "    yaxis_title='Games Won',\n",
    "    legend_title='Player'\n",
    ")\n",
    "fig.show(\"notebook\")"
   ]
  },
  {
   "cell_type": "code",
   "execution_count": 4,
   "id": "c78d0b11",
   "metadata": {},
   "outputs": [],
   "source": [
    "players = [0,0,0,0]\n",
    "for game in all_results:\n",
    "    for i in range(4):\n",
    "        if game[i] == max(game):\n",
    "            players[i] += 1"
   ]
  },
  {
   "cell_type": "code",
   "execution_count": 5,
   "id": "84ee23e2",
   "metadata": {},
   "outputs": [
    {
     "name": "stdout",
     "output_type": "stream",
     "text": [
      "Player 1: 100\n",
      "Player 2: 0\n",
      "Player 3: 0\n",
      "Player 4: 0\n"
     ]
    }
   ],
   "source": [
    "for i in range (4):\n",
    "    print(\"Player \" + str(i+1) + \": \" + str(players[i]))"
   ]
  },
  {
   "cell_type": "code",
   "execution_count": 7,
   "id": "8eee55b0",
   "metadata": {},
   "outputs": [
    {
     "name": "stdout",
     "output_type": "stream",
     "text": [
      "[[70, 5, 20, 13], [61, 7, 22, 16], [60, 14, 27, 7], [68, 9, 19, 9], [70, 9, 19, 8], [62, 11, 24, 12], [62, 4, 31, 14], [58, 11, 30, 12], [58, 12, 27, 14], [66, 12, 20, 9], [59, 12, 33, 3], [54, 5, 33, 10], [54, 9, 34, 15], [62, 6, 29, 13], [68, 9, 27, 9], [68, 10, 26, 7], [63, 10, 29, 9], [55, 11, 37, 9], [61, 8, 29, 15], [45, 11, 42, 11], [47, 13, 41, 12], [55, 12, 39, 5], [61, 9, 28, 10], [61, 9, 27, 15], [56, 11, 32, 7], [58, 3, 34, 12], [60, 7, 36, 9], [63, 7, 34, 9], [58, 11, 33, 11], [63, 8, 27, 13], [61, 8, 31, 10], [66, 5, 33, 5], [63, 8, 31, 8], [59, 6, 41, 9], [65, 4, 35, 9], [58, 9, 33, 4], [62, 4, 38, 5], [48, 10, 39, 14], [50, 10, 39, 11], [56, 5, 35, 14], [66, 7, 28, 3], [49, 8, 44, 8], [69, 7, 33, 5], [50, 13, 39, 10], [53, 7, 38, 7], [51, 9, 38, 9], [59, 5, 40, 3], [61, 4, 38, 10], [56, 4, 36, 9], [61, 5, 32, 9], [53, 11, 36, 11], [64, 5, 33, 6], [59, 7, 36, 7], [56, 8, 40, 4], [56, 7, 37, 12], [50, 6, 44, 9], [55, 6, 37, 7], [66, 4, 27, 11], [54, 8, 37, 10], [65, 4, 32, 3], [58, 4, 40, 5], [51, 6, 36, 18], [57, 5, 42, 7], [58, 5, 39, 8], [56, 3, 36, 14], [56, 12, 31, 10], [54, 6, 39, 7], [65, 5, 31, 6], [54, 6, 46, 9], [62, 4, 38, 6], [61, 3, 38, 7], [59, 8, 39, 5], [52, 6, 48, 5], [58, 5, 39, 5], [49, 5, 43, 11], [55, 5, 33, 12], [55, 4, 37, 11], [50, 8, 38, 12], [58, 4, 39, 8], [56, 9, 34, 10], [53, 3, 46, 8], [61, 7, 31, 8], [61, 1, 35, 7], [64, 3, 32, 6], [55, 4, 40, 6], [60, 3, 45, 4], [52, 5, 45, 4], [65, 4, 39, 8], [57, 5, 46, 3], [54, 7, 44, 8], [61, 7, 38, 5], [48, 7, 47, 8], [60, 4, 35, 6], [57, 7, 39, 4], [52, 10, 39, 6], [57, 6, 38, 7], [58, 2, 40, 7], [48, 10, 39, 9], [53, 11, 38, 8], [58, 9, 44, 4]]\n"
     ]
    }
   ],
   "source": [
    "print(all_results)"
   ]
  },
  {
   "cell_type": "code",
   "execution_count": null,
   "id": "47651155",
   "metadata": {},
   "outputs": [],
   "source": []
  }
 ],
 "metadata": {
  "kernelspec": {
   "display_name": "Python 3 (ipykernel)",
   "language": "python",
   "name": "python3"
  },
  "language_info": {
   "codemirror_mode": {
    "name": "ipython",
    "version": 3
   },
   "file_extension": ".py",
   "mimetype": "text/x-python",
   "name": "python",
   "nbconvert_exporter": "python",
   "pygments_lexer": "ipython3",
   "version": "3.9.12"
  }
 },
 "nbformat": 4,
 "nbformat_minor": 5
}
