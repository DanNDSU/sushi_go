{
 "cells": [
  {
   "cell_type": "markdown",
   "metadata": {},
   "source": [
    "#### Reference"
   ]
  },
  {
   "cell_type": "code",
   "execution_count": null,
   "metadata": {},
   "outputs": [],
   "source": [
    "CARDS = {\n",
    "    0: 'Sashimi',\n",
    "    1: 'Egg Nigiri',\n",
    "    2: 'Salmon Nigiri',\n",
    "    3: 'Squid Nigiri',\n",
    "    4: 'Wasabi',\n",
    "    5: 'Tempura',\n",
    "    6: 'Dumpling',\n",
    "    7: '1 Maki',\n",
    "    8: '2 Maki',\n",
    "    9: '3 Maki',\n",
    "    10: 'Pudding',  # Not implemented\n",
    "    11: 'Chopsticks',  # Not implemented\n",
    "}"
   ]
  },
  {
   "cell_type": "markdown",
   "metadata": {},
   "source": [
    "### 4-Player Games"
   ]
  },
  {
   "cell_type": "code",
   "execution_count": null,
   "metadata": {},
   "outputs": [],
   "source": [
    "import pandas as pd\n",
    "from State import *\n",
    "from Player import *\n",
    "import plotly.express as px\n",
    "from tqdm import tqdm\n",
    "\n",
    "\n",
    "state = State(get_actual_card_pool())\n",
    "p1 = QPlayer('Q1')\n",
    "p2 = QPlayer('Q2')\n",
    "p3 = QPlayer('Q3')\n",
    "p4 = RandomPlayer('RandomPlayer')\n",
    "#p4 = DeepPlayer('Deep w/ Memory', num_of_opponents=3, memory_turns=3)\n",
    "state.add_player(p1)\n",
    "state.add_player(p2)\n",
    "state.add_player(p3)\n",
    "state.add_player(p4)\n",
    "state.starting_hand_size = 8\n",
    "df = pd.DataFrame()\n",
    "all_results = []\n",
    "hit_rates = []\n",
    "        \n",
    "for i in tqdm(range(10)):\n",
    "    # Train\n",
    "    p1.exp_rate = 0.3\n",
    "    p2.exp_rate = 0.4\n",
    "    p3.exp_rate = 0.5\n",
    "    state.play_games(100, round_per_game=3)\n",
    "    \n",
    "    for item in p1.model_dict.items():\n",
    "        print(item)\n",
    "\n",
    "    # Eval\n",
    "    p1.exp_rate = 0\n",
    "    p2.exp_rate = 0\n",
    "    p3.exp_rate = 0\n",
    "    \n",
    "    state.stats = []\n",
    "    state.play_games(100, round_per_game=3)\n",
    "    all_results.append(state.stats)"
   ]
  },
  {
   "cell_type": "code",
   "execution_count": null,
   "metadata": {
    "scrolled": false
   },
   "outputs": [],
   "source": [
    "df = pd.DataFrame()\n",
    "for i in range(4):\n",
    "    df[state.players[i].name] = [_[i] for _ in all_results]\n",
    "fig = px.line(df)\n",
    "fig.update_layout(\n",
    "    title='4 Player Games stats, 200 Games per Round',\n",
    "    xaxis_title='Round',\n",
    "    yaxis_title='Games Won',\n",
    "    legend_title='Player'\n",
    ")\n",
    "fig.show()"
   ]
  },
  {
   "cell_type": "code",
   "execution_count": null,
   "metadata": {
    "scrolled": false
   },
   "outputs": [],
   "source": [
    "starting_input = [0] * len(CARD_ON_BOARD) + [1] * len(CARDS) + [0] * (3 * len(CARD_ON_BOARD)) + [0] * (3 * len(CARDS))\n",
    "output = p4.model(torch.FloatTensor(starting_input))\n",
    "fig = px.bar(y=output.detach().numpy(), x=list(CARDS.values()))\n",
    "fig.update_layout(\n",
    "    title='Deep Learning Model, value estimation on first action',\n",
    "    xaxis_title=' ',\n",
    "    yaxis_title='Estimated Value',\n",
    ")\n",
    "fig.show()"
   ]
  },
  {
   "cell_type": "code",
   "execution_count": null,
   "metadata": {},
   "outputs": [],
   "source": [
    "starting_input = [0] * len(CARD_ON_BOARD) + [1] * len(CARDS) + [0] * (3 * len(CARD_ON_BOARD))\n",
    "output = p1.model(torch.FloatTensor(starting_input))\n",
    "fig = px.bar(y=output.detach().numpy(), x=list(CARDS.values()))\n",
    "fig.update_layout(\n",
    "    title='Deep Learning Model, value estimation on first action',\n",
    "    xaxis_title=' ',\n",
    "    yaxis_title='Estimated Value',\n",
    ")\n",
    "fig.show()"
   ]
  },
  {
   "cell_type": "code",
   "execution_count": null,
   "metadata": {},
   "outputs": [],
   "source": []
  }
 ],
 "metadata": {
  "kernelspec": {
   "display_name": "Python 3 (ipykernel)",
   "language": "python",
   "name": "python3"
  },
  "language_info": {
   "codemirror_mode": {
    "name": "ipython",
    "version": 3
   },
   "file_extension": ".py",
   "mimetype": "text/x-python",
   "name": "python",
   "nbconvert_exporter": "python",
   "pygments_lexer": "ipython3",
   "version": "3.9.12"
  }
 },
 "nbformat": 4,
 "nbformat_minor": 4
}
