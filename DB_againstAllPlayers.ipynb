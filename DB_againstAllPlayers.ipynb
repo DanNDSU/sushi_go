{
 "cells": [
  {
   "cell_type": "markdown",
   "id": "0db15dad",
   "metadata": {},
   "source": [
    "3- Player Game"
   ]
  },
  {
   "cell_type": "code",
   "execution_count": null,
   "id": "4e5a40a8",
   "metadata": {},
   "outputs": [],
   "source": [
    "import pandas as pd\n",
    "from State import *\n",
    "from Player import *\n",
    "import plotly.express as px\n",
    "from tqdm import tqdm\n",
    "\n",
    "\n",
    "state = State(get_actual_card_pool())\n",
    "p1 = RulePlayer('Rule Player')\n",
    "p2 = Q_DBPlayer('DB Player')\n",
    "p3 = QPlayer('Q Player')\n",
    "#p4 = RandomPlayer('RandomPlayer')\n",
    "p4 = DeepPlayer('Deep w/ Memory', num_of_opponents=3, memory_turns=3)\n",
    "state.add_player(p1)\n",
    "state.add_player(p2)\n",
    "state.add_player(p3)\n",
    "state.add_player(p4)\n",
    "state.starting_hand_size = 8\n",
    "df = pd.DataFrame()\n",
    "all_results = []\n",
    "hit_rates = []\n",
    "        \n",
    "for i in tqdm(range(100)):\n",
    "    # Train\n",
    "    #p1.exp_rate = 0.3\n",
    "    p2.exp_rate = 0.3\n",
    "    p3.exp_rate = 0.3\n",
    "    #p1.lr = 0.1\n",
    "    p2.lr = 0.01\n",
    "    p3.lr = 0.01\n",
    "    state.play_games(200)\n",
    "    \n",
    "    #for item in p1.model_dict.items():\n",
    "        #print(item)\n",
    "\n",
    "    # Eval\n",
    "    p1.exp_rate = 0\n",
    "    p2.exp_rate = 0\n",
    "    p3.exp_rate = 0\n",
    "    \n",
    "    state.stats = []\n",
    "    state.play_games(200)\n",
    "    all_results.append(state.stats)"
   ]
  },
  {
   "cell_type": "markdown",
   "id": "450f6238",
   "metadata": {},
   "source": [
    "Plot"
   ]
  },
  {
   "cell_type": "code",
   "execution_count": null,
   "id": "bd03a385",
   "metadata": {},
   "outputs": [],
   "source": [
    "df = pd.DataFrame()\n",
    "for i in range(4):\n",
    "    df[state.players[i].name] = [_[i] for _ in all_results]\n",
    "fig = px.line(df)\n",
    "fig.update_layout(\n",
    "    title='4 Player Games stats, 200 Games per Round',\n",
    "    xaxis_title='Round',\n",
    "    yaxis_title='Games Won',\n",
    "    legend_title='Player'\n",
    ")\n",
    "fig.show()\n"
   ]
  },
  {
   "cell_type": "code",
   "execution_count": null,
   "id": "7bfdefcf",
   "metadata": {},
   "outputs": [],
   "source": [
    "print(\"Game won data:\")\n",
    "print(\"Q Player with lr 0.1: \"+ str(state.stats[0]))\n",
    "print(\"Q DB Player: \"+ str(state.stats[1]) )\n",
    "print(\"Q Player with lr 0.7:\"+ str(state.stats[2]))\n",
    "print(\"Deep Player: \"+ str(state.stats[3]))\n"
   ]
  }
 ],
 "metadata": {
  "interpreter": {
   "hash": "949777d72b0d2535278d3dc13498b2535136f6dfe0678499012e853ee9abcab1"
  },
  "kernelspec": {
   "display_name": "Python 3.9.7 64-bit",
   "language": "python",
   "name": "python3"
  },
  "language_info": {
   "codemirror_mode": {
    "name": "ipython",
    "version": 3
   },
   "file_extension": ".py",
   "mimetype": "text/x-python",
   "name": "python",
   "nbconvert_exporter": "python",
   "pygments_lexer": "ipython3",
   "version": "3.9.7"
  }
 },
 "nbformat": 4,
 "nbformat_minor": 5
}
